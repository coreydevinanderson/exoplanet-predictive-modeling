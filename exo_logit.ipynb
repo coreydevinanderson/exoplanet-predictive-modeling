{
 "cells": [
  {
   "cell_type": "code",
   "execution_count": 1,
   "id": "ce034c17",
   "metadata": {},
   "outputs": [],
   "source": [
    "import pandas as pd\n",
    "import numpy as np"
   ]
  },
  {
   "cell_type": "code",
   "execution_count": 2,
   "id": "86c9f7b7",
   "metadata": {},
   "outputs": [],
   "source": [
    "df = pd.read_csv(\"exoplanet_data_cleaned.csv\", index_col = 0)"
   ]
  },
  {
   "cell_type": "code",
   "execution_count": 3,
   "id": "20aa24a9",
   "metadata": {},
   "outputs": [
    {
     "data": {
      "text/html": [
       "<div>\n",
       "<style scoped>\n",
       "    .dataframe tbody tr th:only-of-type {\n",
       "        vertical-align: middle;\n",
       "    }\n",
       "\n",
       "    .dataframe tbody tr th {\n",
       "        vertical-align: top;\n",
       "    }\n",
       "\n",
       "    .dataframe thead th {\n",
       "        text-align: right;\n",
       "    }\n",
       "</style>\n",
       "<table border=\"1\" class=\"dataframe\">\n",
       "  <thead>\n",
       "    <tr style=\"text-align: right;\">\n",
       "      <th></th>\n",
       "      <th>kepoi_name</th>\n",
       "      <th>koi_disposition</th>\n",
       "      <th>koi_pdisposition</th>\n",
       "      <th>koi_fpflag_nt</th>\n",
       "      <th>koi_fpflag_ss</th>\n",
       "      <th>koi_fpflag_co</th>\n",
       "      <th>koi_fpflag_ec</th>\n",
       "      <th>koi_period</th>\n",
       "      <th>koi_period_err1</th>\n",
       "      <th>koi_period_err2</th>\n",
       "      <th>...</th>\n",
       "      <th>koi_steff_err2</th>\n",
       "      <th>koi_slogg</th>\n",
       "      <th>koi_slogg_err1</th>\n",
       "      <th>koi_slogg_err2</th>\n",
       "      <th>koi_srad</th>\n",
       "      <th>koi_srad_err1</th>\n",
       "      <th>koi_srad_err2</th>\n",
       "      <th>ra</th>\n",
       "      <th>dec</th>\n",
       "      <th>koi_kepmag</th>\n",
       "    </tr>\n",
       "  </thead>\n",
       "  <tbody>\n",
       "    <tr>\n",
       "      <th>0</th>\n",
       "      <td>K00752.01</td>\n",
       "      <td>y</td>\n",
       "      <td>m</td>\n",
       "      <td>negative</td>\n",
       "      <td>negative</td>\n",
       "      <td>negative</td>\n",
       "      <td>negative</td>\n",
       "      <td>9.488036</td>\n",
       "      <td>2.780000e-05</td>\n",
       "      <td>-2.780000e-05</td>\n",
       "      <td>...</td>\n",
       "      <td>-81.0</td>\n",
       "      <td>4.467</td>\n",
       "      <td>0.064</td>\n",
       "      <td>-0.096</td>\n",
       "      <td>0.927</td>\n",
       "      <td>0.105</td>\n",
       "      <td>-0.061</td>\n",
       "      <td>291.93423</td>\n",
       "      <td>48.141651</td>\n",
       "      <td>15.347</td>\n",
       "    </tr>\n",
       "    <tr>\n",
       "      <th>1</th>\n",
       "      <td>K00752.02</td>\n",
       "      <td>y</td>\n",
       "      <td>m</td>\n",
       "      <td>negative</td>\n",
       "      <td>negative</td>\n",
       "      <td>negative</td>\n",
       "      <td>negative</td>\n",
       "      <td>54.418383</td>\n",
       "      <td>2.480000e-04</td>\n",
       "      <td>-2.480000e-04</td>\n",
       "      <td>...</td>\n",
       "      <td>-81.0</td>\n",
       "      <td>4.467</td>\n",
       "      <td>0.064</td>\n",
       "      <td>-0.096</td>\n",
       "      <td>0.927</td>\n",
       "      <td>0.105</td>\n",
       "      <td>-0.061</td>\n",
       "      <td>291.93423</td>\n",
       "      <td>48.141651</td>\n",
       "      <td>15.347</td>\n",
       "    </tr>\n",
       "    <tr>\n",
       "      <th>2</th>\n",
       "      <td>K00753.01</td>\n",
       "      <td>n</td>\n",
       "      <td>n</td>\n",
       "      <td>negative</td>\n",
       "      <td>positive</td>\n",
       "      <td>negative</td>\n",
       "      <td>negative</td>\n",
       "      <td>19.899140</td>\n",
       "      <td>1.490000e-05</td>\n",
       "      <td>-1.490000e-05</td>\n",
       "      <td>...</td>\n",
       "      <td>-176.0</td>\n",
       "      <td>4.544</td>\n",
       "      <td>0.044</td>\n",
       "      <td>-0.176</td>\n",
       "      <td>0.868</td>\n",
       "      <td>0.233</td>\n",
       "      <td>-0.078</td>\n",
       "      <td>297.00482</td>\n",
       "      <td>48.134129</td>\n",
       "      <td>15.436</td>\n",
       "    </tr>\n",
       "    <tr>\n",
       "      <th>3</th>\n",
       "      <td>K00754.01</td>\n",
       "      <td>n</td>\n",
       "      <td>n</td>\n",
       "      <td>negative</td>\n",
       "      <td>positive</td>\n",
       "      <td>negative</td>\n",
       "      <td>negative</td>\n",
       "      <td>1.736952</td>\n",
       "      <td>2.630000e-07</td>\n",
       "      <td>-2.630000e-07</td>\n",
       "      <td>...</td>\n",
       "      <td>-174.0</td>\n",
       "      <td>4.564</td>\n",
       "      <td>0.053</td>\n",
       "      <td>-0.168</td>\n",
       "      <td>0.791</td>\n",
       "      <td>0.201</td>\n",
       "      <td>-0.067</td>\n",
       "      <td>285.53461</td>\n",
       "      <td>48.285210</td>\n",
       "      <td>15.597</td>\n",
       "    </tr>\n",
       "    <tr>\n",
       "      <th>4</th>\n",
       "      <td>K00755.01</td>\n",
       "      <td>y</td>\n",
       "      <td>m</td>\n",
       "      <td>negative</td>\n",
       "      <td>negative</td>\n",
       "      <td>negative</td>\n",
       "      <td>negative</td>\n",
       "      <td>2.525592</td>\n",
       "      <td>3.760000e-06</td>\n",
       "      <td>-3.760000e-06</td>\n",
       "      <td>...</td>\n",
       "      <td>-211.0</td>\n",
       "      <td>4.438</td>\n",
       "      <td>0.070</td>\n",
       "      <td>-0.210</td>\n",
       "      <td>1.046</td>\n",
       "      <td>0.334</td>\n",
       "      <td>-0.133</td>\n",
       "      <td>288.75488</td>\n",
       "      <td>48.226200</td>\n",
       "      <td>15.509</td>\n",
       "    </tr>\n",
       "  </tbody>\n",
       "</table>\n",
       "<p>5 rows × 44 columns</p>\n",
       "</div>"
      ],
      "text/plain": [
       "  kepoi_name koi_disposition koi_pdisposition koi_fpflag_nt koi_fpflag_ss  \\\n",
       "0  K00752.01               y                m      negative      negative   \n",
       "1  K00752.02               y                m      negative      negative   \n",
       "2  K00753.01               n                n      negative      positive   \n",
       "3  K00754.01               n                n      negative      positive   \n",
       "4  K00755.01               y                m      negative      negative   \n",
       "\n",
       "  koi_fpflag_co koi_fpflag_ec  koi_period  koi_period_err1  koi_period_err2  \\\n",
       "0      negative      negative    9.488036     2.780000e-05    -2.780000e-05   \n",
       "1      negative      negative   54.418383     2.480000e-04    -2.480000e-04   \n",
       "2      negative      negative   19.899140     1.490000e-05    -1.490000e-05   \n",
       "3      negative      negative    1.736952     2.630000e-07    -2.630000e-07   \n",
       "4      negative      negative    2.525592     3.760000e-06    -3.760000e-06   \n",
       "\n",
       "   ...  koi_steff_err2  koi_slogg  koi_slogg_err1  koi_slogg_err2  koi_srad  \\\n",
       "0  ...           -81.0      4.467           0.064          -0.096     0.927   \n",
       "1  ...           -81.0      4.467           0.064          -0.096     0.927   \n",
       "2  ...          -176.0      4.544           0.044          -0.176     0.868   \n",
       "3  ...          -174.0      4.564           0.053          -0.168     0.791   \n",
       "4  ...          -211.0      4.438           0.070          -0.210     1.046   \n",
       "\n",
       "   koi_srad_err1  koi_srad_err2         ra        dec  koi_kepmag  \n",
       "0          0.105         -0.061  291.93423  48.141651      15.347  \n",
       "1          0.105         -0.061  291.93423  48.141651      15.347  \n",
       "2          0.233         -0.078  297.00482  48.134129      15.436  \n",
       "3          0.201         -0.067  285.53461  48.285210      15.597  \n",
       "4          0.334         -0.133  288.75488  48.226200      15.509  \n",
       "\n",
       "[5 rows x 44 columns]"
      ]
     },
     "execution_count": 3,
     "metadata": {},
     "output_type": "execute_result"
    }
   ],
   "source": [
    "df.head()"
   ]
  },
  {
   "cell_type": "markdown",
   "id": "9057cd51",
   "metadata": {},
   "source": [
    "---\n",
    "\n",
    "#### Drop: \"m\" (= \"CANDIDATE\") from target \"koi_disposition\":"
   ]
  },
  {
   "cell_type": "code",
   "execution_count": 4,
   "id": "81dc80d3",
   "metadata": {},
   "outputs": [],
   "source": [
    "df_culled = df[df[\"koi_disposition\"] != \"m\"]"
   ]
  },
  {
   "cell_type": "markdown",
   "id": "45d09292",
   "metadata": {},
   "source": [
    "#### Isolate target vector: \"koi_disposition\"; rename as y_disp."
   ]
  },
  {
   "cell_type": "code",
   "execution_count": 5,
   "id": "a0cae29d",
   "metadata": {},
   "outputs": [],
   "source": [
    "y_disp = df_culled[[\"koi_disposition\"]].reset_index(drop = True)"
   ]
  },
  {
   "cell_type": "code",
   "execution_count": 6,
   "id": "9a658737",
   "metadata": {},
   "outputs": [
    {
     "data": {
      "text/plain": [
       "koi_disposition\n",
       "n                  5023\n",
       "y                  2293\n",
       "dtype: int64"
      ]
     },
     "execution_count": 6,
     "metadata": {},
     "output_type": "execute_result"
    }
   ],
   "source": [
    "y_disp.value_counts()"
   ]
  },
  {
   "cell_type": "code",
   "execution_count": 7,
   "id": "6af6620d",
   "metadata": {},
   "outputs": [
    {
     "name": "stderr",
     "output_type": "stream",
     "text": [
      "C:\\Users\\Corey Anderson\\anaconda3\\envs\\PythonAdv\\lib\\site-packages\\pandas\\core\\frame.py:4174: SettingWithCopyWarning: \n",
      "A value is trying to be set on a copy of a slice from a DataFrame\n",
      "\n",
      "See the caveats in the documentation: https://pandas.pydata.org/pandas-docs/stable/user_guide/indexing.html#returning-a-view-versus-a-copy\n",
      "  errors=errors,\n"
     ]
    }
   ],
   "source": [
    "df_culled.drop(columns = [\"kepoi_name\", \"koi_disposition\", \"koi_pdisposition\"], inplace = True)"
   ]
  },
  {
   "cell_type": "code",
   "execution_count": 8,
   "id": "6b9fba45",
   "metadata": {},
   "outputs": [],
   "source": [
    "df_culled.reset_index(drop = True, inplace = True)"
   ]
  },
  {
   "cell_type": "code",
   "execution_count": 9,
   "id": "0645d6fe",
   "metadata": {},
   "outputs": [],
   "source": [
    "df_dummy = pd.get_dummies(df_culled)"
   ]
  },
  {
   "cell_type": "code",
   "execution_count": 10,
   "id": "491d5f82",
   "metadata": {},
   "outputs": [
    {
     "data": {
      "text/html": [
       "<div>\n",
       "<style scoped>\n",
       "    .dataframe tbody tr th:only-of-type {\n",
       "        vertical-align: middle;\n",
       "    }\n",
       "\n",
       "    .dataframe tbody tr th {\n",
       "        vertical-align: top;\n",
       "    }\n",
       "\n",
       "    .dataframe thead th {\n",
       "        text-align: right;\n",
       "    }\n",
       "</style>\n",
       "<table border=\"1\" class=\"dataframe\">\n",
       "  <thead>\n",
       "    <tr style=\"text-align: right;\">\n",
       "      <th></th>\n",
       "      <th>koi_period</th>\n",
       "      <th>koi_period_err1</th>\n",
       "      <th>koi_period_err2</th>\n",
       "      <th>koi_time0bk</th>\n",
       "      <th>koi_time0bk_err1</th>\n",
       "      <th>koi_time0bk_err2</th>\n",
       "      <th>koi_impact</th>\n",
       "      <th>koi_impact_err1</th>\n",
       "      <th>koi_impact_err2</th>\n",
       "      <th>koi_duration</th>\n",
       "      <th>...</th>\n",
       "      <th>koi_fpflag_nt_positive</th>\n",
       "      <th>koi_fpflag_ss_negative</th>\n",
       "      <th>koi_fpflag_ss_positive</th>\n",
       "      <th>koi_fpflag_co_negative</th>\n",
       "      <th>koi_fpflag_co_positive</th>\n",
       "      <th>koi_fpflag_ec_negative</th>\n",
       "      <th>koi_fpflag_ec_positive</th>\n",
       "      <th>koi_tce_delivname_q1_q16_tce</th>\n",
       "      <th>koi_tce_delivname_q1_q17_dr24_tce</th>\n",
       "      <th>koi_tce_delivname_q1_q17_dr25_tce</th>\n",
       "    </tr>\n",
       "  </thead>\n",
       "  <tbody>\n",
       "    <tr>\n",
       "      <th>0</th>\n",
       "      <td>9.488036</td>\n",
       "      <td>2.780000e-05</td>\n",
       "      <td>-2.780000e-05</td>\n",
       "      <td>170.538750</td>\n",
       "      <td>0.002160</td>\n",
       "      <td>-0.002160</td>\n",
       "      <td>0.146</td>\n",
       "      <td>0.318</td>\n",
       "      <td>-0.146</td>\n",
       "      <td>2.95750</td>\n",
       "      <td>...</td>\n",
       "      <td>0</td>\n",
       "      <td>1</td>\n",
       "      <td>0</td>\n",
       "      <td>1</td>\n",
       "      <td>0</td>\n",
       "      <td>1</td>\n",
       "      <td>0</td>\n",
       "      <td>0</td>\n",
       "      <td>0</td>\n",
       "      <td>1</td>\n",
       "    </tr>\n",
       "    <tr>\n",
       "      <th>1</th>\n",
       "      <td>54.418383</td>\n",
       "      <td>2.480000e-04</td>\n",
       "      <td>-2.480000e-04</td>\n",
       "      <td>162.513840</td>\n",
       "      <td>0.003520</td>\n",
       "      <td>-0.003520</td>\n",
       "      <td>0.586</td>\n",
       "      <td>0.059</td>\n",
       "      <td>-0.443</td>\n",
       "      <td>4.50700</td>\n",
       "      <td>...</td>\n",
       "      <td>0</td>\n",
       "      <td>1</td>\n",
       "      <td>0</td>\n",
       "      <td>1</td>\n",
       "      <td>0</td>\n",
       "      <td>1</td>\n",
       "      <td>0</td>\n",
       "      <td>0</td>\n",
       "      <td>0</td>\n",
       "      <td>1</td>\n",
       "    </tr>\n",
       "    <tr>\n",
       "      <th>2</th>\n",
       "      <td>19.899140</td>\n",
       "      <td>1.490000e-05</td>\n",
       "      <td>-1.490000e-05</td>\n",
       "      <td>175.850252</td>\n",
       "      <td>0.000581</td>\n",
       "      <td>-0.000581</td>\n",
       "      <td>0.969</td>\n",
       "      <td>5.126</td>\n",
       "      <td>-0.077</td>\n",
       "      <td>1.78220</td>\n",
       "      <td>...</td>\n",
       "      <td>0</td>\n",
       "      <td>0</td>\n",
       "      <td>1</td>\n",
       "      <td>1</td>\n",
       "      <td>0</td>\n",
       "      <td>1</td>\n",
       "      <td>0</td>\n",
       "      <td>0</td>\n",
       "      <td>0</td>\n",
       "      <td>1</td>\n",
       "    </tr>\n",
       "    <tr>\n",
       "      <th>3</th>\n",
       "      <td>1.736952</td>\n",
       "      <td>2.630000e-07</td>\n",
       "      <td>-2.630000e-07</td>\n",
       "      <td>170.307565</td>\n",
       "      <td>0.000115</td>\n",
       "      <td>-0.000115</td>\n",
       "      <td>1.276</td>\n",
       "      <td>0.115</td>\n",
       "      <td>-0.092</td>\n",
       "      <td>2.40641</td>\n",
       "      <td>...</td>\n",
       "      <td>0</td>\n",
       "      <td>0</td>\n",
       "      <td>1</td>\n",
       "      <td>1</td>\n",
       "      <td>0</td>\n",
       "      <td>1</td>\n",
       "      <td>0</td>\n",
       "      <td>0</td>\n",
       "      <td>0</td>\n",
       "      <td>1</td>\n",
       "    </tr>\n",
       "    <tr>\n",
       "      <th>4</th>\n",
       "      <td>2.525592</td>\n",
       "      <td>3.760000e-06</td>\n",
       "      <td>-3.760000e-06</td>\n",
       "      <td>171.595550</td>\n",
       "      <td>0.001130</td>\n",
       "      <td>-0.001130</td>\n",
       "      <td>0.701</td>\n",
       "      <td>0.235</td>\n",
       "      <td>-0.478</td>\n",
       "      <td>1.65450</td>\n",
       "      <td>...</td>\n",
       "      <td>0</td>\n",
       "      <td>1</td>\n",
       "      <td>0</td>\n",
       "      <td>1</td>\n",
       "      <td>0</td>\n",
       "      <td>1</td>\n",
       "      <td>0</td>\n",
       "      <td>0</td>\n",
       "      <td>0</td>\n",
       "      <td>1</td>\n",
       "    </tr>\n",
       "    <tr>\n",
       "      <th>...</th>\n",
       "      <td>...</td>\n",
       "      <td>...</td>\n",
       "      <td>...</td>\n",
       "      <td>...</td>\n",
       "      <td>...</td>\n",
       "      <td>...</td>\n",
       "      <td>...</td>\n",
       "      <td>...</td>\n",
       "      <td>...</td>\n",
       "      <td>...</td>\n",
       "      <td>...</td>\n",
       "      <td>...</td>\n",
       "      <td>...</td>\n",
       "      <td>...</td>\n",
       "      <td>...</td>\n",
       "      <td>...</td>\n",
       "      <td>...</td>\n",
       "      <td>...</td>\n",
       "      <td>...</td>\n",
       "      <td>...</td>\n",
       "      <td>...</td>\n",
       "    </tr>\n",
       "    <tr>\n",
       "      <th>7311</th>\n",
       "      <td>23.627035</td>\n",
       "      <td>2.260000e-04</td>\n",
       "      <td>-2.260000e-04</td>\n",
       "      <td>150.036200</td>\n",
       "      <td>0.010900</td>\n",
       "      <td>-0.010900</td>\n",
       "      <td>1.096</td>\n",
       "      <td>38.210</td>\n",
       "      <td>-0.106</td>\n",
       "      <td>11.48100</td>\n",
       "      <td>...</td>\n",
       "      <td>0</td>\n",
       "      <td>0</td>\n",
       "      <td>1</td>\n",
       "      <td>1</td>\n",
       "      <td>0</td>\n",
       "      <td>1</td>\n",
       "      <td>0</td>\n",
       "      <td>0</td>\n",
       "      <td>0</td>\n",
       "      <td>1</td>\n",
       "    </tr>\n",
       "    <tr>\n",
       "      <th>7312</th>\n",
       "      <td>8.589871</td>\n",
       "      <td>1.850000e-04</td>\n",
       "      <td>-1.850000e-04</td>\n",
       "      <td>132.016100</td>\n",
       "      <td>0.015700</td>\n",
       "      <td>-0.015700</td>\n",
       "      <td>0.765</td>\n",
       "      <td>0.023</td>\n",
       "      <td>-0.541</td>\n",
       "      <td>4.80600</td>\n",
       "      <td>...</td>\n",
       "      <td>0</td>\n",
       "      <td>1</td>\n",
       "      <td>0</td>\n",
       "      <td>1</td>\n",
       "      <td>0</td>\n",
       "      <td>0</td>\n",
       "      <td>1</td>\n",
       "      <td>0</td>\n",
       "      <td>0</td>\n",
       "      <td>1</td>\n",
       "    </tr>\n",
       "    <tr>\n",
       "      <th>7313</th>\n",
       "      <td>0.527699</td>\n",
       "      <td>1.160000e-07</td>\n",
       "      <td>-1.160000e-07</td>\n",
       "      <td>131.705093</td>\n",
       "      <td>0.000170</td>\n",
       "      <td>-0.000170</td>\n",
       "      <td>1.252</td>\n",
       "      <td>0.051</td>\n",
       "      <td>-0.049</td>\n",
       "      <td>3.22210</td>\n",
       "      <td>...</td>\n",
       "      <td>0</td>\n",
       "      <td>0</td>\n",
       "      <td>1</td>\n",
       "      <td>0</td>\n",
       "      <td>1</td>\n",
       "      <td>1</td>\n",
       "      <td>0</td>\n",
       "      <td>0</td>\n",
       "      <td>0</td>\n",
       "      <td>1</td>\n",
       "    </tr>\n",
       "    <tr>\n",
       "      <th>7314</th>\n",
       "      <td>0.681402</td>\n",
       "      <td>2.430000e-06</td>\n",
       "      <td>-2.430000e-06</td>\n",
       "      <td>132.181750</td>\n",
       "      <td>0.002850</td>\n",
       "      <td>-0.002850</td>\n",
       "      <td>0.147</td>\n",
       "      <td>0.309</td>\n",
       "      <td>-0.147</td>\n",
       "      <td>0.86500</td>\n",
       "      <td>...</td>\n",
       "      <td>0</td>\n",
       "      <td>1</td>\n",
       "      <td>0</td>\n",
       "      <td>0</td>\n",
       "      <td>1</td>\n",
       "      <td>1</td>\n",
       "      <td>0</td>\n",
       "      <td>0</td>\n",
       "      <td>0</td>\n",
       "      <td>1</td>\n",
       "    </tr>\n",
       "    <tr>\n",
       "      <th>7315</th>\n",
       "      <td>4.856035</td>\n",
       "      <td>6.360000e-05</td>\n",
       "      <td>-6.360000e-05</td>\n",
       "      <td>135.993300</td>\n",
       "      <td>0.010800</td>\n",
       "      <td>-0.010800</td>\n",
       "      <td>0.134</td>\n",
       "      <td>0.323</td>\n",
       "      <td>-0.134</td>\n",
       "      <td>3.07800</td>\n",
       "      <td>...</td>\n",
       "      <td>0</td>\n",
       "      <td>1</td>\n",
       "      <td>0</td>\n",
       "      <td>0</td>\n",
       "      <td>1</td>\n",
       "      <td>0</td>\n",
       "      <td>1</td>\n",
       "      <td>0</td>\n",
       "      <td>0</td>\n",
       "      <td>1</td>\n",
       "    </tr>\n",
       "  </tbody>\n",
       "</table>\n",
       "<p>7316 rows × 47 columns</p>\n",
       "</div>"
      ],
      "text/plain": [
       "      koi_period  koi_period_err1  koi_period_err2  koi_time0bk  \\\n",
       "0       9.488036     2.780000e-05    -2.780000e-05   170.538750   \n",
       "1      54.418383     2.480000e-04    -2.480000e-04   162.513840   \n",
       "2      19.899140     1.490000e-05    -1.490000e-05   175.850252   \n",
       "3       1.736952     2.630000e-07    -2.630000e-07   170.307565   \n",
       "4       2.525592     3.760000e-06    -3.760000e-06   171.595550   \n",
       "...          ...              ...              ...          ...   \n",
       "7311   23.627035     2.260000e-04    -2.260000e-04   150.036200   \n",
       "7312    8.589871     1.850000e-04    -1.850000e-04   132.016100   \n",
       "7313    0.527699     1.160000e-07    -1.160000e-07   131.705093   \n",
       "7314    0.681402     2.430000e-06    -2.430000e-06   132.181750   \n",
       "7315    4.856035     6.360000e-05    -6.360000e-05   135.993300   \n",
       "\n",
       "      koi_time0bk_err1  koi_time0bk_err2  koi_impact  koi_impact_err1  \\\n",
       "0             0.002160         -0.002160       0.146            0.318   \n",
       "1             0.003520         -0.003520       0.586            0.059   \n",
       "2             0.000581         -0.000581       0.969            5.126   \n",
       "3             0.000115         -0.000115       1.276            0.115   \n",
       "4             0.001130         -0.001130       0.701            0.235   \n",
       "...                ...               ...         ...              ...   \n",
       "7311          0.010900         -0.010900       1.096           38.210   \n",
       "7312          0.015700         -0.015700       0.765            0.023   \n",
       "7313          0.000170         -0.000170       1.252            0.051   \n",
       "7314          0.002850         -0.002850       0.147            0.309   \n",
       "7315          0.010800         -0.010800       0.134            0.323   \n",
       "\n",
       "      koi_impact_err2  koi_duration  ...  koi_fpflag_nt_positive  \\\n",
       "0              -0.146       2.95750  ...                       0   \n",
       "1              -0.443       4.50700  ...                       0   \n",
       "2              -0.077       1.78220  ...                       0   \n",
       "3              -0.092       2.40641  ...                       0   \n",
       "4              -0.478       1.65450  ...                       0   \n",
       "...               ...           ...  ...                     ...   \n",
       "7311           -0.106      11.48100  ...                       0   \n",
       "7312           -0.541       4.80600  ...                       0   \n",
       "7313           -0.049       3.22210  ...                       0   \n",
       "7314           -0.147       0.86500  ...                       0   \n",
       "7315           -0.134       3.07800  ...                       0   \n",
       "\n",
       "      koi_fpflag_ss_negative  koi_fpflag_ss_positive  koi_fpflag_co_negative  \\\n",
       "0                          1                       0                       1   \n",
       "1                          1                       0                       1   \n",
       "2                          0                       1                       1   \n",
       "3                          0                       1                       1   \n",
       "4                          1                       0                       1   \n",
       "...                      ...                     ...                     ...   \n",
       "7311                       0                       1                       1   \n",
       "7312                       1                       0                       1   \n",
       "7313                       0                       1                       0   \n",
       "7314                       1                       0                       0   \n",
       "7315                       1                       0                       0   \n",
       "\n",
       "      koi_fpflag_co_positive  koi_fpflag_ec_negative  koi_fpflag_ec_positive  \\\n",
       "0                          0                       1                       0   \n",
       "1                          0                       1                       0   \n",
       "2                          0                       1                       0   \n",
       "3                          0                       1                       0   \n",
       "4                          0                       1                       0   \n",
       "...                      ...                     ...                     ...   \n",
       "7311                       0                       1                       0   \n",
       "7312                       0                       0                       1   \n",
       "7313                       1                       1                       0   \n",
       "7314                       1                       1                       0   \n",
       "7315                       1                       0                       1   \n",
       "\n",
       "      koi_tce_delivname_q1_q16_tce  koi_tce_delivname_q1_q17_dr24_tce  \\\n",
       "0                                0                                  0   \n",
       "1                                0                                  0   \n",
       "2                                0                                  0   \n",
       "3                                0                                  0   \n",
       "4                                0                                  0   \n",
       "...                            ...                                ...   \n",
       "7311                             0                                  0   \n",
       "7312                             0                                  0   \n",
       "7313                             0                                  0   \n",
       "7314                             0                                  0   \n",
       "7315                             0                                  0   \n",
       "\n",
       "      koi_tce_delivname_q1_q17_dr25_tce  \n",
       "0                                     1  \n",
       "1                                     1  \n",
       "2                                     1  \n",
       "3                                     1  \n",
       "4                                     1  \n",
       "...                                 ...  \n",
       "7311                                  1  \n",
       "7312                                  1  \n",
       "7313                                  1  \n",
       "7314                                  1  \n",
       "7315                                  1  \n",
       "\n",
       "[7316 rows x 47 columns]"
      ]
     },
     "execution_count": 10,
     "metadata": {},
     "output_type": "execute_result"
    }
   ],
   "source": [
    "df_dummy"
   ]
  },
  {
   "cell_type": "markdown",
   "id": "ce296fd5",
   "metadata": {},
   "source": [
    "#### Impute the data using medians:"
   ]
  },
  {
   "cell_type": "code",
   "execution_count": 11,
   "id": "58a7e501",
   "metadata": {},
   "outputs": [],
   "source": [
    "from sklearn.impute import SimpleImputer"
   ]
  },
  {
   "cell_type": "code",
   "execution_count": 12,
   "id": "55c9b454",
   "metadata": {},
   "outputs": [],
   "source": [
    "impute_median = SimpleImputer(missing_values=np.nan, strategy = 'median')"
   ]
  },
  {
   "cell_type": "code",
   "execution_count": 13,
   "id": "817e1328",
   "metadata": {},
   "outputs": [
    {
     "data": {
      "text/plain": [
       "SimpleImputer(strategy='median')"
      ]
     },
     "execution_count": 13,
     "metadata": {},
     "output_type": "execute_result"
    }
   ],
   "source": [
    "impute_median.fit(df_dummy)"
   ]
  },
  {
   "cell_type": "code",
   "execution_count": 14,
   "id": "6c8395ac",
   "metadata": {},
   "outputs": [],
   "source": [
    "df_imp = impute_median.transform(df_dummy)"
   ]
  },
  {
   "cell_type": "markdown",
   "id": "82583f9f",
   "metadata": {},
   "source": [
    "#### Train, test, split the data:"
   ]
  },
  {
   "cell_type": "code",
   "execution_count": 15,
   "id": "44272065",
   "metadata": {},
   "outputs": [],
   "source": [
    "from sklearn.model_selection import train_test_split\n",
    "\n",
    "X_train, X_test, y_train, y_test = train_test_split(df_imp, y_disp, random_state = 46)"
   ]
  },
  {
   "cell_type": "markdown",
   "id": "fd36e154",
   "metadata": {},
   "source": [
    "#### Scale (by median):"
   ]
  },
  {
   "cell_type": "code",
   "execution_count": 16,
   "id": "57315ec8",
   "metadata": {},
   "outputs": [],
   "source": [
    "from sklearn.preprocessing import MinMaxScaler"
   ]
  },
  {
   "cell_type": "code",
   "execution_count": 17,
   "id": "5592eda3",
   "metadata": {},
   "outputs": [],
   "source": [
    "X_scaler = MinMaxScaler().fit(X_train)"
   ]
  },
  {
   "cell_type": "code",
   "execution_count": 18,
   "id": "f0585b90",
   "metadata": {},
   "outputs": [],
   "source": [
    "X_train_scaled = X_scaler.transform(X_train)\n",
    "X_test_scaled = X_scaler.transform(X_test)"
   ]
  },
  {
   "cell_type": "markdown",
   "id": "739ca553",
   "metadata": {},
   "source": [
    "### Fit logit model with LASSO (\"L1\" regularization):"
   ]
  },
  {
   "cell_type": "code",
   "execution_count": 19,
   "id": "52869904",
   "metadata": {},
   "outputs": [
    {
     "data": {
      "text/plain": [
       "LogisticRegression(C=5, penalty='l1', solver='liblinear')"
      ]
     },
     "execution_count": 19,
     "metadata": {},
     "output_type": "execute_result"
    }
   ],
   "source": [
    "from sklearn.linear_model import LogisticRegression\n",
    "\n",
    "logit_1 = LogisticRegression(penalty='l1', C = 5, solver='liblinear')  # c = 5 is preferred (see below).\n",
    "logit_1.fit(X_train_scaled, np.ravel(y_train, order = \"c\"))"
   ]
  },
  {
   "cell_type": "code",
   "execution_count": 20,
   "id": "5f989ef3",
   "metadata": {},
   "outputs": [],
   "source": [
    "from sklearn.metrics import roc_auc_score"
   ]
  },
  {
   "cell_type": "code",
   "execution_count": 21,
   "id": "e64c4600",
   "metadata": {},
   "outputs": [],
   "source": [
    "pred_prob = logit_1.predict_proba(X_test_scaled)"
   ]
  },
  {
   "cell_type": "code",
   "execution_count": 22,
   "id": "0226a176",
   "metadata": {},
   "outputs": [
    {
     "name": "stdout",
     "output_type": "stream",
     "text": [
      "AUC: 0.9982\n"
     ]
    }
   ],
   "source": [
    "roc_auc = roc_auc_score(y_test, pred_prob[:,1])\n",
    "print(f\"AUC: {round(roc_auc, 4)}\")"
   ]
  },
  {
   "cell_type": "code",
   "execution_count": 23,
   "id": "fc0607a7",
   "metadata": {},
   "outputs": [
    {
     "name": "stdout",
     "output_type": "stream",
     "text": [
      "Accuracy: 0.6522689994532531\n"
     ]
    }
   ],
   "source": [
    "accuracy = logit_1.score(X_test, y_test)\n",
    "\n",
    "print(f\"Accuracy: {accuracy}\")"
   ]
  },
  {
   "cell_type": "markdown",
   "id": "ccfed0a4",
   "metadata": {},
   "source": [
    "High AUC but low accuracy suggests good performance on positive class, but a high false negative rate."
   ]
  },
  {
   "cell_type": "markdown",
   "id": "b092f251",
   "metadata": {},
   "source": [
    "#### GridSearch to optimize the regularization parameter:"
   ]
  },
  {
   "cell_type": "code",
   "execution_count": 24,
   "id": "026a9c2c",
   "metadata": {},
   "outputs": [],
   "source": [
    "# Create the GridSearch estimator along with a parameter object containing the values to adjust\n",
    "from sklearn.model_selection import GridSearchCV\n",
    "param_grid = {'C': [10, 1, 0.1, 0.01, 0.001]}\n",
    "grid = GridSearchCV(logit_1, param_grid, verbose=3)"
   ]
  },
  {
   "cell_type": "code",
   "execution_count": 25,
   "id": "b7c858f1",
   "metadata": {},
   "outputs": [
    {
     "name": "stdout",
     "output_type": "stream",
     "text": [
      "Fitting 5 folds for each of 5 candidates, totalling 25 fits\n",
      "[CV 1/5] END ..............................C=10;, score=0.993 total time=   0.1s\n",
      "[CV 2/5] END ..............................C=10;, score=0.989 total time=   0.0s\n",
      "[CV 3/5] END ..............................C=10;, score=0.992 total time=   0.2s\n",
      "[CV 4/5] END ..............................C=10;, score=0.996 total time=   0.0s\n",
      "[CV 5/5] END ..............................C=10;, score=0.985 total time=   0.2s\n",
      "[CV 1/5] END ...............................C=1;, score=0.991 total time=   0.0s\n",
      "[CV 2/5] END ...............................C=1;, score=0.990 total time=   0.0s\n",
      "[CV 3/5] END ...............................C=1;, score=0.991 total time=   0.0s\n",
      "[CV 4/5] END ...............................C=1;, score=0.995 total time=   0.0s\n",
      "[CV 5/5] END ...............................C=1;, score=0.987 total time=   0.1s\n",
      "[CV 1/5] END .............................C=0.1;, score=0.989 total time=   0.0s\n",
      "[CV 2/5] END .............................C=0.1;, score=0.988 total time=   0.0s\n",
      "[CV 3/5] END .............................C=0.1;, score=0.989 total time=   0.0s\n",
      "[CV 4/5] END .............................C=0.1;, score=0.992 total time=   0.0s\n",
      "[CV 5/5] END .............................C=0.1;, score=0.985 total time=   0.1s\n",
      "[CV 1/5] END ............................C=0.01;, score=0.943 total time=   0.0s\n",
      "[CV 2/5] END ............................C=0.01;, score=0.941 total time=   0.1s\n",
      "[CV 3/5] END ............................C=0.01;, score=0.934 total time=   0.1s\n",
      "[CV 4/5] END ............................C=0.01;, score=0.942 total time=   0.1s\n",
      "[CV 5/5] END ............................C=0.01;, score=0.933 total time=   0.2s\n",
      "[CV 1/5] END ...........................C=0.001;, score=0.856 total time=   0.0s\n",
      "[CV 2/5] END ...........................C=0.001;, score=0.868 total time=   0.1s\n",
      "[CV 3/5] END ...........................C=0.001;, score=0.856 total time=   0.0s\n",
      "[CV 4/5] END ...........................C=0.001;, score=0.850 total time=   0.0s\n",
      "[CV 5/5] END ...........................C=0.001;, score=0.851 total time=   0.0s\n"
     ]
    },
    {
     "data": {
      "text/plain": [
       "GridSearchCV(estimator=LogisticRegression(C=5, penalty='l1',\n",
       "                                          solver='liblinear'),\n",
       "             param_grid={'C': [10, 1, 0.1, 0.01, 0.001]}, verbose=3)"
      ]
     },
     "execution_count": 25,
     "metadata": {},
     "output_type": "execute_result"
    }
   ],
   "source": [
    "grid.fit(X_train, np.ravel(y_train, order = \"c\"))"
   ]
  },
  {
   "cell_type": "code",
   "execution_count": 26,
   "id": "2f24b3e1",
   "metadata": {},
   "outputs": [
    {
     "name": "stdout",
     "output_type": "stream",
     "text": [
      "{'C': 1}\n"
     ]
    }
   ],
   "source": [
    "print(grid.best_params_)"
   ]
  },
  {
   "cell_type": "code",
   "execution_count": 27,
   "id": "5a8a7fe7",
   "metadata": {},
   "outputs": [],
   "source": [
    "# Create the GridSearch estimator along with a parameter object containing the values to adjust\n",
    "from sklearn.model_selection import GridSearchCV\n",
    "param_grid = {'C': [10, 9, 8, 7, 6, 5, 4, 3, 2, 1]}\n",
    "grid = GridSearchCV(logit_1, param_grid, verbose=3)"
   ]
  },
  {
   "cell_type": "code",
   "execution_count": 28,
   "id": "cd3c108b",
   "metadata": {},
   "outputs": [
    {
     "name": "stdout",
     "output_type": "stream",
     "text": [
      "Fitting 5 folds for each of 10 candidates, totalling 50 fits\n",
      "[CV 1/5] END ..............................C=10;, score=0.993 total time=   0.1s\n",
      "[CV 2/5] END ..............................C=10;, score=0.989 total time=   0.0s\n",
      "[CV 3/5] END ..............................C=10;, score=0.991 total time=   0.1s\n",
      "[CV 4/5] END ..............................C=10;, score=0.996 total time=   0.1s\n",
      "[CV 5/5] END ..............................C=10;, score=0.986 total time=   0.2s\n",
      "[CV 1/5] END ...............................C=9;, score=0.994 total time=   0.1s\n",
      "[CV 2/5] END ...............................C=9;, score=0.989 total time=   0.1s\n",
      "[CV 3/5] END ...............................C=9;, score=0.991 total time=   0.1s\n",
      "[CV 4/5] END ...............................C=9;, score=0.996 total time=   0.0s\n",
      "[CV 5/5] END ...............................C=9;, score=0.987 total time=   0.1s\n",
      "[CV 1/5] END ...............................C=8;, score=0.994 total time=   0.1s\n",
      "[CV 2/5] END ...............................C=8;, score=0.990 total time=   0.0s\n",
      "[CV 3/5] END ...............................C=8;, score=0.990 total time=   0.2s\n",
      "[CV 4/5] END ...............................C=8;, score=0.996 total time=   0.2s\n",
      "[CV 5/5] END ...............................C=8;, score=0.986 total time=   0.1s\n",
      "[CV 1/5] END ...............................C=7;, score=0.994 total time=   0.0s\n",
      "[CV 2/5] END ...............................C=7;, score=0.989 total time=   0.1s\n",
      "[CV 3/5] END ...............................C=7;, score=0.990 total time=   0.1s\n",
      "[CV 4/5] END ...............................C=7;, score=0.996 total time=   0.1s\n",
      "[CV 5/5] END ...............................C=7;, score=0.986 total time=   0.1s\n",
      "[CV 1/5] END ...............................C=6;, score=0.994 total time=   0.0s\n",
      "[CV 2/5] END ...............................C=6;, score=0.990 total time=   0.0s\n",
      "[CV 3/5] END ...............................C=6;, score=0.990 total time=   0.1s\n",
      "[CV 4/5] END ...............................C=6;, score=0.996 total time=   0.2s\n",
      "[CV 5/5] END ...............................C=6;, score=0.987 total time=   0.0s\n",
      "[CV 1/5] END ...............................C=5;, score=0.994 total time=   0.2s\n",
      "[CV 2/5] END ...............................C=5;, score=0.990 total time=   0.0s\n",
      "[CV 3/5] END ...............................C=5;, score=0.990 total time=   0.2s\n",
      "[CV 4/5] END ...............................C=5;, score=0.996 total time=   0.1s\n",
      "[CV 5/5] END ...............................C=5;, score=0.987 total time=   0.2s\n",
      "[CV 1/5] END ...............................C=4;, score=0.994 total time=   0.1s\n",
      "[CV 2/5] END ...............................C=4;, score=0.989 total time=   0.0s\n",
      "[CV 3/5] END ...............................C=4;, score=0.990 total time=   0.0s\n",
      "[CV 4/5] END ...............................C=4;, score=0.996 total time=   0.2s\n",
      "[CV 5/5] END ...............................C=4;, score=0.986 total time=   0.1s\n",
      "[CV 1/5] END ...............................C=3;, score=0.994 total time=   0.0s\n",
      "[CV 2/5] END ...............................C=3;, score=0.990 total time=   0.0s\n",
      "[CV 3/5] END ...............................C=3;, score=0.990 total time=   0.1s\n",
      "[CV 4/5] END ...............................C=3;, score=0.996 total time=   0.0s\n",
      "[CV 5/5] END ...............................C=3;, score=0.987 total time=   0.1s\n",
      "[CV 1/5] END ...............................C=2;, score=0.994 total time=   0.1s\n",
      "[CV 2/5] END ...............................C=2;, score=0.990 total time=   0.1s\n",
      "[CV 3/5] END ...............................C=2;, score=0.991 total time=   0.1s\n",
      "[CV 4/5] END ...............................C=2;, score=0.995 total time=   0.0s\n",
      "[CV 5/5] END ...............................C=2;, score=0.987 total time=   0.0s\n",
      "[CV 1/5] END ...............................C=1;, score=0.992 total time=   0.1s\n",
      "[CV 2/5] END ...............................C=1;, score=0.990 total time=   0.0s\n",
      "[CV 3/5] END ...............................C=1;, score=0.991 total time=   0.0s\n",
      "[CV 4/5] END ...............................C=1;, score=0.995 total time=   0.0s\n",
      "[CV 5/5] END ...............................C=1;, score=0.988 total time=   0.1s\n"
     ]
    },
    {
     "data": {
      "text/plain": [
       "GridSearchCV(estimator=LogisticRegression(C=5, penalty='l1',\n",
       "                                          solver='liblinear'),\n",
       "             param_grid={'C': [10, 9, 8, 7, 6, 5, 4, 3, 2, 1]}, verbose=3)"
      ]
     },
     "execution_count": 28,
     "metadata": {},
     "output_type": "execute_result"
    }
   ],
   "source": [
    "grid.fit(X_train, np.ravel(y_train, order = \"c\"))"
   ]
  },
  {
   "cell_type": "code",
   "execution_count": 29,
   "id": "34f074be",
   "metadata": {},
   "outputs": [
    {
     "name": "stdout",
     "output_type": "stream",
     "text": [
      "{'C': 9}\n"
     ]
    }
   ],
   "source": [
    "print(grid.best_params_)"
   ]
  },
  {
   "cell_type": "markdown",
   "id": "86753c8b",
   "metadata": {},
   "source": [
    "#### Manual (custom) grid search via for loop to examine which features are dropped as C decreases"
   ]
  },
  {
   "cell_type": "code",
   "execution_count": 30,
   "id": "30e35625",
   "metadata": {},
   "outputs": [
    {
     "name": "stdout",
     "output_type": "stream",
     "text": [
      "C: 10\n",
      "Coefficient: [[ -0.3603078   -7.24655018   0.           0.          -1.28410575\n",
      "    0.           0.          -9.63402039  -3.99324863  -0.15888492\n",
      "  -14.97799653   0.         -56.5824079    0.          -1.31131222\n",
      "    0.           0.          -1.62484184  -5.34241304   0.\n",
      "    0.          -1.07606302   1.34893808   3.23371194   2.6975682\n",
      "  -11.44970388   0.           1.94229306   0.71198405   9.17824404\n",
      "   -7.99879535   0.           0.          -0.77291143   0.54759936\n",
      "   -0.45763019   0.         -13.82074753   0.         -13.10635048\n",
      "    0.         -14.98843696   0.         -14.95300657   0.\n",
      "    6.01489455  12.60424111]]\n",
      "AUC: 0.9983\n",
      "\n",
      "C: 5\n",
      "Coefficient: [[ -0.2340422   -4.65916719   0.           0.          -1.33771906\n",
      "    0.           0.          -6.76843111  -2.59894402  -0.11959241\n",
      "   -7.46175667   0.         -31.40060892   0.          -0.99056102\n",
      "    0.           0.          -1.06497015  -2.72427354   0.\n",
      "    0.          -1.07046577   0.17768518   3.14980632   0.62027463\n",
      "   -9.65235266   0.           2.62940877   0.           6.67491703\n",
      "    0.           0.           0.          -0.76357749   0.41842038\n",
      "   -1.02904428   0.         -11.63547525   0.         -11.00180433\n",
      "    0.         -12.70757631   0.         -12.58545742   0.\n",
      "    4.84916508  10.42293326]]\n",
      "AUC: 0.9982\n",
      "\n",
      "C: 1\n",
      "Coefficient: [[ 0.          0.          0.          0.          0.          0.\n",
      "   0.         -1.12873434 -0.26312505  0.          0.          0.\n",
      "  -5.26340195  0.          0.          0.          0.          0.\n",
      "   0.          0.          0.          0.          0.          2.60697485\n",
      "  -1.03577039 -7.21968579  0.          0.         -0.19793886  1.18937661\n",
      "   0.          0.          0.         -0.70050491  0.          0.\n",
      "   0.         -9.19034361  0.         -9.02783674  0.         -9.90412896\n",
      "   0.         -9.29287714  0.          1.87267742  7.696231  ]]\n",
      "AUC: 0.9973\n",
      "\n",
      "C: 0.1\n",
      "Coefficient: [[ 0.          0.          0.          0.          0.          0.\n",
      "   0.          0.         -0.31991037  0.          0.          0.\n",
      "   0.          0.          0.          0.          0.         -0.15261545\n",
      "   0.          0.          0.         -0.08692221  0.          0.\n",
      "   0.          0.          0.          0.          0.          0.\n",
      "   0.          0.          0.         -0.28503824  0.          0.\n",
      "   0.         -6.37260122  0.         -6.94413622  0.         -6.64818297\n",
      "   0.         -5.21960922  0.          0.          4.26700586]]\n",
      "AUC: 0.9957\n",
      "\n",
      "C: 0.001\n",
      "Coefficient: [[0. 0. 0. 0. 0. 0. 0. 0. 0. 0. 0. 0. 0. 0. 0. 0. 0. 0. 0. 0. 0. 0. 0. 0.\n",
      "  0. 0. 0. 0. 0. 0. 0. 0. 0. 0. 0. 0. 0. 0. 0. 0. 0. 0. 0. 0. 0. 0. 0.]]\n",
      "AUC: 0.5\n",
      "\n",
      "C: 0.0001\n",
      "Coefficient: [[0. 0. 0. 0. 0. 0. 0. 0. 0. 0. 0. 0. 0. 0. 0. 0. 0. 0. 0. 0. 0. 0. 0. 0.\n",
      "  0. 0. 0. 0. 0. 0. 0. 0. 0. 0. 0. 0. 0. 0. 0. 0. 0. 0. 0. 0. 0. 0. 0.]]\n",
      "AUC: 0.5\n",
      "\n"
     ]
    }
   ],
   "source": [
    "C = [10, 5, 1, 0.1, 0.001, 0.0001]\n",
    "\n",
    "for c in C:\n",
    "    logit_x = LogisticRegression(penalty='l1', C=c, solver='liblinear')\n",
    "    logit_x.fit(X_train_scaled, np.ravel(y_train, order = \"c\"))\n",
    "    print(f\"C: {c}\")\n",
    "    print(f\"Coefficient: {logit_x.coef_}\")\n",
    "    pred_prob_x = logit_x.predict_proba(X_test_scaled)\n",
    "    roc_auc_x = roc_auc_score(y_test, pred_prob_x[:,1])\n",
    "    print(f\"AUC: {round(roc_auc_x, 4)}\\n\")"
   ]
  },
  {
   "cell_type": "markdown",
   "id": "94df6ae0",
   "metadata": {},
   "source": [
    "---\n",
    "\n",
    "### Save model:"
   ]
  },
  {
   "cell_type": "code",
   "execution_count": 31,
   "id": "31ad0ba6",
   "metadata": {},
   "outputs": [],
   "source": [
    "import pickle"
   ]
  },
  {
   "cell_type": "code",
   "execution_count": 32,
   "id": "99e4cdf8",
   "metadata": {},
   "outputs": [],
   "source": [
    "filename = \"explanet_logit_CDA.sav\"\n",
    "pickle.dump(logit_1, open(filename, 'wb'))"
   ]
  },
  {
   "cell_type": "code",
   "execution_count": null,
   "id": "d7418750",
   "metadata": {},
   "outputs": [],
   "source": [
    "# To load back:\n",
    "\n",
    "# logit_l1 = pickle.load(open(\"explanet_logit_CDA.sav\", 'rb'))"
   ]
  }
 ],
 "metadata": {
  "kernelspec": {
   "display_name": "Python [conda env:PythonAdv] *",
   "language": "python",
   "name": "conda-env-PythonAdv-py"
  },
  "language_info": {
   "codemirror_mode": {
    "name": "ipython",
    "version": 3
   },
   "file_extension": ".py",
   "mimetype": "text/x-python",
   "name": "python",
   "nbconvert_exporter": "python",
   "pygments_lexer": "ipython3",
   "version": "3.6.13"
  }
 },
 "nbformat": 4,
 "nbformat_minor": 5
}
